{
 "cells": [
  {
   "cell_type": "markdown",
   "id": "cfc0f66d",
   "metadata": {},
   "source": [
    "# Read Data"
   ]
  },
  {
   "cell_type": "code",
   "execution_count": 1,
   "id": "92a0c759",
   "metadata": {},
   "outputs": [],
   "source": [
    "import pandas as pd\n",
    "A=pd.read_csv(\"C:/Users/Test/Downloads/Cars93 (1).csv\")"
   ]
  },
  {
   "cell_type": "markdown",
   "id": "224253b2",
   "metadata": {},
   "source": [
    "# Selecting Segment"
   ]
  },
  {
   "cell_type": "code",
   "execution_count": 3,
   "id": "c95fd7cf",
   "metadata": {},
   "outputs": [],
   "source": [
    "B=A[[\"Price\",\"MPG.city\"]]"
   ]
  },
  {
   "cell_type": "code",
   "execution_count": 4,
   "id": "7b711fc7",
   "metadata": {},
   "outputs": [
    {
     "data": {
      "text/plain": [
       "Price       81\n",
       "MPG.city    21\n",
       "dtype: int64"
      ]
     },
     "execution_count": 4,
     "metadata": {},
     "output_type": "execute_result"
    }
   ],
   "source": [
    "B.nunique()"
   ]
  },
  {
   "cell_type": "code",
   "execution_count": 6,
   "id": "d7c1d24e",
   "metadata": {},
   "outputs": [],
   "source": [
    "# Checking for missing Values"
   ]
  },
  {
   "cell_type": "code",
   "execution_count": 5,
   "id": "014175e0",
   "metadata": {},
   "outputs": [
    {
     "data": {
      "text/plain": [
       "Price       0\n",
       "MPG.city    0\n",
       "dtype: int64"
      ]
     },
     "execution_count": 5,
     "metadata": {},
     "output_type": "execute_result"
    }
   ],
   "source": [
    "B.isna().sum()"
   ]
  },
  {
   "cell_type": "markdown",
   "id": "0d2fcf9e",
   "metadata": {},
   "source": [
    "# Standariding Segmented Data"
   ]
  },
  {
   "cell_type": "code",
   "execution_count": 7,
   "id": "c678cf41",
   "metadata": {},
   "outputs": [],
   "source": [
    "from sklearn.preprocessing import StandardScaler \n",
    "ss=StandardScaler()\n",
    "C=pd.DataFrame(ss.fit_transform(B),columns=B.columns)"
   ]
  },
  {
   "cell_type": "code",
   "execution_count": 8,
   "id": "4914be16",
   "metadata": {},
   "outputs": [
    {
     "data": {
      "text/html": [
       "<div>\n",
       "<style scoped>\n",
       "    .dataframe tbody tr th:only-of-type {\n",
       "        vertical-align: middle;\n",
       "    }\n",
       "\n",
       "    .dataframe tbody tr th {\n",
       "        vertical-align: top;\n",
       "    }\n",
       "\n",
       "    .dataframe thead th {\n",
       "        text-align: right;\n",
       "    }\n",
       "</style>\n",
       "<table border=\"1\" class=\"dataframe\">\n",
       "  <thead>\n",
       "    <tr style=\"text-align: right;\">\n",
       "      <th></th>\n",
       "      <th>Price</th>\n",
       "      <th>MPG.city</th>\n",
       "    </tr>\n",
       "  </thead>\n",
       "  <tbody>\n",
       "    <tr>\n",
       "      <th>0</th>\n",
       "      <td>-0.375720</td>\n",
       "      <td>0.471312</td>\n",
       "    </tr>\n",
       "    <tr>\n",
       "      <th>1</th>\n",
       "      <td>1.497844</td>\n",
       "      <td>-0.781032</td>\n",
       "    </tr>\n",
       "    <tr>\n",
       "      <th>2</th>\n",
       "      <td>0.998227</td>\n",
       "      <td>-0.423219</td>\n",
       "    </tr>\n",
       "    <tr>\n",
       "      <th>3</th>\n",
       "      <td>1.893374</td>\n",
       "      <td>-0.602126</td>\n",
       "    </tr>\n",
       "    <tr>\n",
       "      <th>4</th>\n",
       "      <td>1.091905</td>\n",
       "      <td>-0.065407</td>\n",
       "    </tr>\n",
       "    <tr>\n",
       "      <th>...</th>\n",
       "      <td>...</td>\n",
       "      <td>...</td>\n",
       "    </tr>\n",
       "    <tr>\n",
       "      <th>88</th>\n",
       "      <td>0.019810</td>\n",
       "      <td>-0.959938</td>\n",
       "    </tr>\n",
       "    <tr>\n",
       "      <th>89</th>\n",
       "      <td>0.051036</td>\n",
       "      <td>-0.244313</td>\n",
       "    </tr>\n",
       "    <tr>\n",
       "      <th>90</th>\n",
       "      <td>0.394523</td>\n",
       "      <td>-0.781032</td>\n",
       "    </tr>\n",
       "    <tr>\n",
       "      <th>91</th>\n",
       "      <td>0.332071</td>\n",
       "      <td>-0.244313</td>\n",
       "    </tr>\n",
       "    <tr>\n",
       "      <th>92</th>\n",
       "      <td>0.748418</td>\n",
       "      <td>-0.423219</td>\n",
       "    </tr>\n",
       "  </tbody>\n",
       "</table>\n",
       "<p>93 rows × 2 columns</p>\n",
       "</div>"
      ],
      "text/plain": [
       "       Price  MPG.city\n",
       "0  -0.375720  0.471312\n",
       "1   1.497844 -0.781032\n",
       "2   0.998227 -0.423219\n",
       "3   1.893374 -0.602126\n",
       "4   1.091905 -0.065407\n",
       "..       ...       ...\n",
       "88  0.019810 -0.959938\n",
       "89  0.051036 -0.244313\n",
       "90  0.394523 -0.781032\n",
       "91  0.332071 -0.244313\n",
       "92  0.748418 -0.423219\n",
       "\n",
       "[93 rows x 2 columns]"
      ]
     },
     "execution_count": 8,
     "metadata": {},
     "output_type": "execute_result"
    }
   ],
   "source": [
    "C"
   ]
  },
  {
   "cell_type": "markdown",
   "id": "982838c8",
   "metadata": {},
   "source": [
    "# Making Kmeans Model  to make clusters"
   ]
  },
  {
   "cell_type": "code",
   "execution_count": 9,
   "id": "954a589a",
   "metadata": {},
   "outputs": [
    {
     "data": {
      "text/plain": [
       "array([2, 0, 0, 0, 0, 2, 2, 0, 0, 0, 0, 2, 2, 2, 2, 2, 2, 2, 0, 2, 2, 0,\n",
       "       1, 2, 2, 2, 2, 0, 1, 2, 1, 2, 2, 2, 2, 2, 2, 2, 1, 1, 2, 1, 2, 1,\n",
       "       2, 1, 2, 0, 0, 0, 0, 0, 1, 1, 2, 2, 0, 0, 0, 2, 2, 1, 0, 1, 2, 2,\n",
       "       2, 2, 2, 2, 2, 2, 1, 2, 2, 2, 2, 0, 1, 1, 2, 2, 1, 1, 2, 2, 2, 2,\n",
       "       2, 2, 2, 2, 0])"
      ]
     },
     "execution_count": 9,
     "metadata": {},
     "output_type": "execute_result"
    }
   ],
   "source": [
    "from sklearn.cluster import KMeans\n",
    "km=KMeans(n_clusters=3)\n",
    "model=km.fit(C)\n",
    "model.labels_"
   ]
  },
  {
   "cell_type": "markdown",
   "id": "c04b0152",
   "metadata": {},
   "source": [
    "# Plotting Clusters"
   ]
  },
  {
   "cell_type": "code",
   "execution_count": 10,
   "id": "295d5247",
   "metadata": {},
   "outputs": [],
   "source": [
    "import matplotlib.pyplot as plt"
   ]
  },
  {
   "cell_type": "code",
   "execution_count": 7,
   "id": "8935b938",
   "metadata": {},
   "outputs": [
    {
     "data": {
      "text/plain": [
       "Text(0.5, 1.0, 'Price vs Mpg.city')"
      ]
     },
     "execution_count": 7,
     "metadata": {},
     "output_type": "execute_result"
    },
    {
     "data": {
      "image/png": "[encoded data removed]",
      "text/plain": [
       "<Figure size 432x288 with 1 Axes>"
      ]
     },
     "metadata": {
      "needs_background": "light"
     },
     "output_type": "display_data"
    }
   ],
   "source": [
    "plt.scatter(A['MPG.city'],A.Price,c=model.labels_)\n",
    "plt.xlabel(\"Mpg.city\")\n",
    "plt.ylabel(\"Price\")\n",
    "plt.title(\"Price vs Mpg.city\")"
   ]
  },
  {
   "cell_type": "code",
   "execution_count": 11,
   "id": "bcbb67ec",
   "metadata": {},
   "outputs": [
    {
     "data": {
      "text/plain": [
       "array([[ 1.46141368, -0.72410737],\n",
       "       [-0.99779245,  1.68156148],\n",
       "       [-0.28127091, -0.23437376]])"
      ]
     },
     "execution_count": 11,
     "metadata": {},
     "output_type": "execute_result"
    }
   ],
   "source": [
    "model.cluster_centers_"
   ]
  },
  {
   "cell_type": "code",
   "execution_count": 12,
   "id": "d610dfe5",
   "metadata": {},
   "outputs": [],
   "source": [
    "centers=ss.inverse_transform(model.cluster_centers_)\n",
    "Q=pd.DataFrame(centers,columns=[\"X\",\"Y\"])"
   ]
  },
  {
   "cell_type": "code",
   "execution_count": 13,
   "id": "ebe723c2",
   "metadata": {},
   "outputs": [
    {
     "data": {
      "text/html": [
       "<div>\n",
       "<style scoped>\n",
       "    .dataframe tbody tr th:only-of-type {\n",
       "        vertical-align: middle;\n",
       "    }\n",
       "\n",
       "    .dataframe tbody tr th {\n",
       "        vertical-align: top;\n",
       "    }\n",
       "\n",
       "    .dataframe thead th {\n",
       "        text-align: right;\n",
       "    }\n",
       "</style>\n",
       "<table border=\"1\" class=\"dataframe\">\n",
       "  <thead>\n",
       "    <tr style=\"text-align: right;\">\n",
       "      <th></th>\n",
       "      <th>X</th>\n",
       "      <th>Y</th>\n",
       "    </tr>\n",
       "  </thead>\n",
       "  <tbody>\n",
       "    <tr>\n",
       "      <th>0</th>\n",
       "      <td>33.550000</td>\n",
       "      <td>18.318182</td>\n",
       "    </tr>\n",
       "    <tr>\n",
       "      <th>1</th>\n",
       "      <td>9.923529</td>\n",
       "      <td>31.764706</td>\n",
       "    </tr>\n",
       "    <tr>\n",
       "      <th>2</th>\n",
       "      <td>16.807407</td>\n",
       "      <td>21.055556</td>\n",
       "    </tr>\n",
       "  </tbody>\n",
       "</table>\n",
       "</div>"
      ],
      "text/plain": [
       "           X          Y\n",
       "0  33.550000  18.318182\n",
       "1   9.923529  31.764706\n",
       "2  16.807407  21.055556"
      ]
     },
     "execution_count": 13,
     "metadata": {},
     "output_type": "execute_result"
    }
   ],
   "source": [
    "Q"
   ]
  },
  {
   "cell_type": "code",
   "execution_count": 14,
   "id": "29892941",
   "metadata": {},
   "outputs": [
    {
     "data": {
      "text/plain": [
       "<matplotlib.collections.PathCollection at 0x24a283c18e0>"
      ]
     },
     "execution_count": 14,
     "metadata": {},
     "output_type": "execute_result"
    },
    {
     "data": {
      "image/png": "[encoded data removed]",
      "text/plain": [
       "<Figure size 432x288 with 1 Axes>"
      ]
     },
     "metadata": {
      "needs_background": "light"
     },
     "output_type": "display_data"
    }
   ],
   "source": [
    "plt.scatter(A['MPG.city'],A.Price,c=model.labels_)\n",
    "plt.scatter(Q.X,Q.Y,s=100,c=\"red\")"
   ]
  },
  {
   "cell_type": "markdown",
   "id": "e73f6d3e",
   "metadata": {},
   "source": [
    "# Preparing WCSS & K for elbow curve"
   ]
  },
  {
   "cell_type": "code",
   "execution_count": 15,
   "id": "d9489342",
   "metadata": {},
   "outputs": [],
   "source": [
    "K=[]\n",
    "WCSS=[]\n",
    "for i in range(1,20,1):\n",
    "    kmn=KMeans(n_clusters=i)\n",
    "    model=kmn.fit(C)\n",
    "    K.append(i)\n",
    "    WCSS.append(model.inertia_)\n",
    "    \n"
   ]
  },
  {
   "cell_type": "code",
   "execution_count": 16,
   "id": "13f15901",
   "metadata": {},
   "outputs": [
    {
     "data": {
      "text/plain": [
       "[1, 2, 3, 4, 5, 6, 7, 8, 9, 10, 11, 12, 13, 14, 15, 16, 17, 18, 19]"
      ]
     },
     "execution_count": 16,
     "metadata": {},
     "output_type": "execute_result"
    }
   ],
   "source": [
    "K"
   ]
  },
  {
   "cell_type": "code",
   "execution_count": 17,
   "id": "af0cde0a",
   "metadata": {},
   "outputs": [
    {
     "data": {
      "text/plain": [
       "[185.99999999999997,\n",
       " 93.92806219538848,\n",
       " 55.245192883868334,\n",
       " 38.21153380297062,\n",
       " 25.743307121066692,\n",
       " 17.31328142060361,\n",
       " 13.643568489133072,\n",
       " 11.361142402889634,\n",
       " 10.160054310998559,\n",
       " 8.973899820435514,\n",
       " 8.201143328028778,\n",
       " 6.989519889776907,\n",
       " 6.196310299557867,\n",
       " 5.43815047512248,\n",
       " 5.08969986710181,\n",
       " 4.301604549436707,\n",
       " 4.117879162412685,\n",
       " 3.5585829597366136,\n",
       " 3.4504164635986347]"
      ]
     },
     "execution_count": 17,
     "metadata": {},
     "output_type": "execute_result"
    }
   ],
   "source": [
    "WCSS"
   ]
  },
  {
   "cell_type": "markdown",
   "id": "e65a9241",
   "metadata": {},
   "source": [
    "# Plotting Elbow curve to find Elbow Point"
   ]
  },
  {
   "cell_type": "code",
   "execution_count": 18,
   "id": "e9b4782d",
   "metadata": {},
   "outputs": [
    {
     "data": {
      "text/plain": [
       "[<matplotlib.lines.Line2D at 0x24a2a513520>]"
      ]
     },
     "execution_count": 18,
     "metadata": {},
     "output_type": "execute_result"
    },
    {
     "data": {
      "image/png": "[encoded data removed]",
      "text/plain": [
       "<Figure size 432x288 with 1 Axes>"
      ]
     },
     "metadata": {
      "needs_background": "light"
     },
     "output_type": "display_data"
    }
   ],
   "source": [
    "plt.scatter(K,WCSS,c=\"red\")\n",
    "plt.plot(K,WCSS,c=\"blue\")"
   ]
  },
  {
   "cell_type": "markdown",
   "id": "7572244e",
   "metadata": {},
   "source": [
    "# Making model based on Best no of clusters"
   ]
  },
  {
   "cell_type": "code",
   "execution_count": 19,
   "id": "2cc81252",
   "metadata": {},
   "outputs": [
    {
     "data": {
      "text/plain": [
       "array([2, 3, 1, 3, 1, 2, 1, 1, 1, 3, 3, 2, 2, 1, 2, 1, 1, 1, 3, 1, 2, 1,\n",
       "       0, 2, 2, 1, 2, 1, 0, 1, 0, 2, 2, 2, 2, 1, 1, 1, 0, 0, 2, 0, 2, 0,\n",
       "       2, 2, 2, 3, 1, 3, 3, 3, 0, 0, 2, 1, 3, 3, 3, 2, 1, 0, 1, 0, 2, 1,\n",
       "       1, 2, 2, 1, 1, 2, 0, 2, 1, 1, 1, 1, 0, 0, 2, 2, 0, 0, 2, 2, 1, 2,\n",
       "       1, 1, 1, 1, 1])"
      ]
     },
     "execution_count": 19,
     "metadata": {},
     "output_type": "execute_result"
    }
   ],
   "source": [
    "from sklearn.cluster import KMeans\n",
    "km=KMeans(n_clusters=4)\n",
    "model=km.fit(C)\n",
    "model.labels_"
   ]
  },
  {
   "cell_type": "markdown",
   "id": "4b1bd5ba",
   "metadata": {},
   "source": [
    "# Making Clusters on Segment"
   ]
  },
  {
   "cell_type": "code",
   "execution_count": 22,
   "id": "41abbe89",
   "metadata": {},
   "outputs": [],
   "source": [
    "from warnings import filterwarnings\n",
    "filterwarnings(\"ignore\")"
   ]
  },
  {
   "cell_type": "code",
   "execution_count": 25,
   "id": "c866e427",
   "metadata": {},
   "outputs": [],
   "source": [
    "A[\"Cluster\"]= model.labels_"
   ]
  },
  {
   "cell_type": "code",
   "execution_count": 26,
   "id": "e1b92343",
   "metadata": {},
   "outputs": [
    {
     "data": {
      "text/html": [
       "<div>\n",
       "<style scoped>\n",
       "    .dataframe tbody tr th:only-of-type {\n",
       "        vertical-align: middle;\n",
       "    }\n",
       "\n",
       "    .dataframe tbody tr th {\n",
       "        vertical-align: top;\n",
       "    }\n",
       "\n",
       "    .dataframe thead th {\n",
       "        text-align: right;\n",
       "    }\n",
       "</style>\n",
       "<table border=\"1\" class=\"dataframe\">\n",
       "  <thead>\n",
       "    <tr style=\"text-align: right;\">\n",
       "      <th></th>\n",
       "      <th>id</th>\n",
       "      <th>Manufacturer</th>\n",
       "      <th>Model</th>\n",
       "      <th>Type</th>\n",
       "      <th>Min.Price</th>\n",
       "      <th>Price</th>\n",
       "      <th>Max.Price</th>\n",
       "      <th>MPG.city</th>\n",
       "      <th>MPG.highway</th>\n",
       "      <th>AirBags</th>\n",
       "      <th>...</th>\n",
       "      <th>Length</th>\n",
       "      <th>Wheelbase</th>\n",
       "      <th>Width</th>\n",
       "      <th>Turn.circle</th>\n",
       "      <th>Rear.seat.room</th>\n",
       "      <th>Luggage.room</th>\n",
       "      <th>Weight</th>\n",
       "      <th>Origin</th>\n",
       "      <th>Make</th>\n",
       "      <th>Cluster</th>\n",
       "    </tr>\n",
       "  </thead>\n",
       "  <tbody>\n",
       "    <tr>\n",
       "      <th>0</th>\n",
       "      <td>1</td>\n",
       "      <td>Acura</td>\n",
       "      <td>Integra</td>\n",
       "      <td>Small</td>\n",
       "      <td>12.9</td>\n",
       "      <td>15.9</td>\n",
       "      <td>18.8</td>\n",
       "      <td>25</td>\n",
       "      <td>31</td>\n",
       "      <td>None</td>\n",
       "      <td>...</td>\n",
       "      <td>177</td>\n",
       "      <td>102</td>\n",
       "      <td>68</td>\n",
       "      <td>37</td>\n",
       "      <td>26.5</td>\n",
       "      <td>11.0</td>\n",
       "      <td>2705</td>\n",
       "      <td>non-USA</td>\n",
       "      <td>Acura Integra</td>\n",
       "      <td>2</td>\n",
       "    </tr>\n",
       "    <tr>\n",
       "      <th>1</th>\n",
       "      <td>2</td>\n",
       "      <td>Acura</td>\n",
       "      <td>Legend</td>\n",
       "      <td>Midsize</td>\n",
       "      <td>29.2</td>\n",
       "      <td>33.9</td>\n",
       "      <td>38.7</td>\n",
       "      <td>18</td>\n",
       "      <td>25</td>\n",
       "      <td>Driver &amp; Passenger</td>\n",
       "      <td>...</td>\n",
       "      <td>195</td>\n",
       "      <td>115</td>\n",
       "      <td>71</td>\n",
       "      <td>38</td>\n",
       "      <td>30.0</td>\n",
       "      <td>15.0</td>\n",
       "      <td>3560</td>\n",
       "      <td>non-USA</td>\n",
       "      <td>Acura Legend</td>\n",
       "      <td>3</td>\n",
       "    </tr>\n",
       "    <tr>\n",
       "      <th>2</th>\n",
       "      <td>3</td>\n",
       "      <td>Audi</td>\n",
       "      <td>90</td>\n",
       "      <td>Compact</td>\n",
       "      <td>25.9</td>\n",
       "      <td>29.1</td>\n",
       "      <td>32.3</td>\n",
       "      <td>20</td>\n",
       "      <td>26</td>\n",
       "      <td>Driver only</td>\n",
       "      <td>...</td>\n",
       "      <td>180</td>\n",
       "      <td>102</td>\n",
       "      <td>67</td>\n",
       "      <td>37</td>\n",
       "      <td>28.0</td>\n",
       "      <td>14.0</td>\n",
       "      <td>3375</td>\n",
       "      <td>non-USA</td>\n",
       "      <td>Audi 90</td>\n",
       "      <td>1</td>\n",
       "    </tr>\n",
       "    <tr>\n",
       "      <th>3</th>\n",
       "      <td>4</td>\n",
       "      <td>Audi</td>\n",
       "      <td>100</td>\n",
       "      <td>Midsize</td>\n",
       "      <td>30.8</td>\n",
       "      <td>37.7</td>\n",
       "      <td>44.6</td>\n",
       "      <td>19</td>\n",
       "      <td>26</td>\n",
       "      <td>NaN</td>\n",
       "      <td>...</td>\n",
       "      <td>193</td>\n",
       "      <td>106</td>\n",
       "      <td>70</td>\n",
       "      <td>37</td>\n",
       "      <td>31.0</td>\n",
       "      <td>17.0</td>\n",
       "      <td>3405</td>\n",
       "      <td>non-USA</td>\n",
       "      <td>Audi 100</td>\n",
       "      <td>3</td>\n",
       "    </tr>\n",
       "    <tr>\n",
       "      <th>4</th>\n",
       "      <td>5</td>\n",
       "      <td>BMW</td>\n",
       "      <td>535i</td>\n",
       "      <td>Midsize</td>\n",
       "      <td>23.7</td>\n",
       "      <td>30.0</td>\n",
       "      <td>36.2</td>\n",
       "      <td>22</td>\n",
       "      <td>30</td>\n",
       "      <td>Driver only</td>\n",
       "      <td>...</td>\n",
       "      <td>186</td>\n",
       "      <td>109</td>\n",
       "      <td>69</td>\n",
       "      <td>39</td>\n",
       "      <td>27.0</td>\n",
       "      <td>13.0</td>\n",
       "      <td>3640</td>\n",
       "      <td>non-USA</td>\n",
       "      <td>BMW 535i</td>\n",
       "      <td>1</td>\n",
       "    </tr>\n",
       "    <tr>\n",
       "      <th>...</th>\n",
       "      <td>...</td>\n",
       "      <td>...</td>\n",
       "      <td>...</td>\n",
       "      <td>...</td>\n",
       "      <td>...</td>\n",
       "      <td>...</td>\n",
       "      <td>...</td>\n",
       "      <td>...</td>\n",
       "      <td>...</td>\n",
       "      <td>...</td>\n",
       "      <td>...</td>\n",
       "      <td>...</td>\n",
       "      <td>...</td>\n",
       "      <td>...</td>\n",
       "      <td>...</td>\n",
       "      <td>...</td>\n",
       "      <td>...</td>\n",
       "      <td>...</td>\n",
       "      <td>...</td>\n",
       "      <td>...</td>\n",
       "      <td>...</td>\n",
       "    </tr>\n",
       "    <tr>\n",
       "      <th>88</th>\n",
       "      <td>89</td>\n",
       "      <td>Volkswagen</td>\n",
       "      <td>Eurovan</td>\n",
       "      <td>Van</td>\n",
       "      <td>16.6</td>\n",
       "      <td>19.7</td>\n",
       "      <td>22.7</td>\n",
       "      <td>17</td>\n",
       "      <td>21</td>\n",
       "      <td>None</td>\n",
       "      <td>...</td>\n",
       "      <td>187</td>\n",
       "      <td>115</td>\n",
       "      <td>72</td>\n",
       "      <td>38</td>\n",
       "      <td>34.0</td>\n",
       "      <td>NaN</td>\n",
       "      <td>3960</td>\n",
       "      <td>non-USA</td>\n",
       "      <td>Volkswagen Eurovan</td>\n",
       "      <td>1</td>\n",
       "    </tr>\n",
       "    <tr>\n",
       "      <th>89</th>\n",
       "      <td>90</td>\n",
       "      <td>Volkswagen</td>\n",
       "      <td>Passat</td>\n",
       "      <td>Compact</td>\n",
       "      <td>17.6</td>\n",
       "      <td>20.0</td>\n",
       "      <td>22.4</td>\n",
       "      <td>21</td>\n",
       "      <td>30</td>\n",
       "      <td>None</td>\n",
       "      <td>...</td>\n",
       "      <td>180</td>\n",
       "      <td>103</td>\n",
       "      <td>67</td>\n",
       "      <td>35</td>\n",
       "      <td>31.5</td>\n",
       "      <td>14.0</td>\n",
       "      <td>2985</td>\n",
       "      <td>non-USA</td>\n",
       "      <td>Volkswagen Passat</td>\n",
       "      <td>1</td>\n",
       "    </tr>\n",
       "    <tr>\n",
       "      <th>90</th>\n",
       "      <td>91</td>\n",
       "      <td>Volkswagen</td>\n",
       "      <td>Corrado</td>\n",
       "      <td>Sporty</td>\n",
       "      <td>22.9</td>\n",
       "      <td>23.3</td>\n",
       "      <td>23.7</td>\n",
       "      <td>18</td>\n",
       "      <td>25</td>\n",
       "      <td>None</td>\n",
       "      <td>...</td>\n",
       "      <td>159</td>\n",
       "      <td>97</td>\n",
       "      <td>66</td>\n",
       "      <td>36</td>\n",
       "      <td>26.0</td>\n",
       "      <td>15.0</td>\n",
       "      <td>2810</td>\n",
       "      <td>non-USA</td>\n",
       "      <td>Volkswagen Corrado</td>\n",
       "      <td>1</td>\n",
       "    </tr>\n",
       "    <tr>\n",
       "      <th>91</th>\n",
       "      <td>92</td>\n",
       "      <td>Volvo</td>\n",
       "      <td>240</td>\n",
       "      <td>Compact</td>\n",
       "      <td>21.8</td>\n",
       "      <td>22.7</td>\n",
       "      <td>23.5</td>\n",
       "      <td>21</td>\n",
       "      <td>28</td>\n",
       "      <td>Driver only</td>\n",
       "      <td>...</td>\n",
       "      <td>190</td>\n",
       "      <td>104</td>\n",
       "      <td>67</td>\n",
       "      <td>37</td>\n",
       "      <td>29.5</td>\n",
       "      <td>14.0</td>\n",
       "      <td>2985</td>\n",
       "      <td>non-USA</td>\n",
       "      <td>Volvo 240</td>\n",
       "      <td>1</td>\n",
       "    </tr>\n",
       "    <tr>\n",
       "      <th>92</th>\n",
       "      <td>93</td>\n",
       "      <td>Volvo</td>\n",
       "      <td>850</td>\n",
       "      <td>Midsize</td>\n",
       "      <td>24.8</td>\n",
       "      <td>26.7</td>\n",
       "      <td>28.5</td>\n",
       "      <td>20</td>\n",
       "      <td>28</td>\n",
       "      <td>Driver &amp; Passenger</td>\n",
       "      <td>...</td>\n",
       "      <td>184</td>\n",
       "      <td>105</td>\n",
       "      <td>69</td>\n",
       "      <td>38</td>\n",
       "      <td>30.0</td>\n",
       "      <td>15.0</td>\n",
       "      <td>3245</td>\n",
       "      <td>non-USA</td>\n",
       "      <td>Volvo 850</td>\n",
       "      <td>1</td>\n",
       "    </tr>\n",
       "  </tbody>\n",
       "</table>\n",
       "<p>93 rows × 29 columns</p>\n",
       "</div>"
      ],
      "text/plain": [
       "    id Manufacturer    Model     Type  Min.Price  Price  Max.Price  MPG.city  \\\n",
       "0    1        Acura  Integra    Small       12.9   15.9       18.8        25   \n",
       "1    2        Acura   Legend  Midsize       29.2   33.9       38.7        18   \n",
       "2    3         Audi       90  Compact       25.9   29.1       32.3        20   \n",
       "3    4         Audi      100  Midsize       30.8   37.7       44.6        19   \n",
       "4    5          BMW     535i  Midsize       23.7   30.0       36.2        22   \n",
       "..  ..          ...      ...      ...        ...    ...        ...       ...   \n",
       "88  89   Volkswagen  Eurovan      Van       16.6   19.7       22.7        17   \n",
       "89  90   Volkswagen   Passat  Compact       17.6   20.0       22.4        21   \n",
       "90  91   Volkswagen  Corrado   Sporty       22.9   23.3       23.7        18   \n",
       "91  92        Volvo      240  Compact       21.8   22.7       23.5        21   \n",
       "92  93        Volvo      850  Midsize       24.8   26.7       28.5        20   \n",
       "\n",
       "    MPG.highway             AirBags  ... Length Wheelbase  Width  Turn.circle  \\\n",
       "0            31                None  ...    177       102     68           37   \n",
       "1            25  Driver & Passenger  ...    195       115     71           38   \n",
       "2            26         Driver only  ...    180       102     67           37   \n",
       "3            26                 NaN  ...    193       106     70           37   \n",
       "4            30         Driver only  ...    186       109     69           39   \n",
       "..          ...                 ...  ...    ...       ...    ...          ...   \n",
       "88           21                None  ...    187       115     72           38   \n",
       "89           30                None  ...    180       103     67           35   \n",
       "90           25                None  ...    159        97     66           36   \n",
       "91           28         Driver only  ...    190       104     67           37   \n",
       "92           28  Driver & Passenger  ...    184       105     69           38   \n",
       "\n",
       "    Rear.seat.room  Luggage.room Weight   Origin                Make  Cluster  \n",
       "0             26.5          11.0   2705  non-USA       Acura Integra        2  \n",
       "1             30.0          15.0   3560  non-USA        Acura Legend        3  \n",
       "2             28.0          14.0   3375  non-USA             Audi 90        1  \n",
       "3             31.0          17.0   3405  non-USA            Audi 100        3  \n",
       "4             27.0          13.0   3640  non-USA            BMW 535i        1  \n",
       "..             ...           ...    ...      ...                 ...      ...  \n",
       "88            34.0           NaN   3960  non-USA  Volkswagen Eurovan        1  \n",
       "89            31.5          14.0   2985  non-USA   Volkswagen Passat        1  \n",
       "90            26.0          15.0   2810  non-USA  Volkswagen Corrado        1  \n",
       "91            29.5          14.0   2985  non-USA           Volvo 240        1  \n",
       "92            30.0          15.0   3245  non-USA           Volvo 850        1  \n",
       "\n",
       "[93 rows x 29 columns]"
      ]
     },
     "execution_count": 26,
     "metadata": {},
     "output_type": "execute_result"
    }
   ],
   "source": [
    "A"
   ]
  },
  {
   "cell_type": "markdown",
   "id": "d5dd0aeb",
   "metadata": {},
   "source": [
    "# Taking input From User And Recommending the Similiar Cars"
   ]
  },
  {
   "cell_type": "code",
   "execution_count": 28,
   "id": "81114c56",
   "metadata": {},
   "outputs": [
    {
     "name": "stdout",
     "output_type": "stream",
     "text": [
      "enter the car ModelCorrado\n",
      "Entered  car  Corrado\n",
      "Similiar Cars ['90', '535i', 'LeSabre', 'Roadmaster', 'Riviera', 'Camaro', 'Lumina_APV', 'Astro', 'Caprice', 'Concorde', 'Imperial', 'Caravan', 'Stealth', 'Vision', 'Aerostar', 'Taurus', 'Crown_Victoria', 'ES300', 'MPV', 'Cougar', 'Diamante', 'Quest', 'Maxima', 'Silhouette', 'Eighty-Eight', 'Firebird', 'Grand_Prix', 'Bonneville', '900', 'Previa', 'Eurovan', 'Passat', 'Corrado', '240', '850']\n"
     ]
    }
   ],
   "source": [
    "get_data = input(\"enter the car Model\")\n",
    "selected_cluster=list(A[A.Model == get_data].Cluster)[0]\n",
    "W=list(A[A.Cluster==selected_cluster].Model)\n",
    "\n",
    "print(\"Entered  car \",get_data)\n",
    "print(\"Similiar Cars\",W)"
   ]
  },
  {
   "cell_type": "code",
   "execution_count": null,
   "id": "072101f5",
   "metadata": {},
   "outputs": [],
   "source": []
  }
 ],
 "metadata": {
  "kernelspec": {
   "display_name": "Python 3 (ipykernel)",
   "language": "python",
   "name": "python3"
  },
  "language_info": {
   "codemirror_mode": {
    "name": "ipython",
    "version": 3
   },
   "file_extension": ".py",
   "mimetype": "text/x-python",
   "name": "python",
   "nbconvert_exporter": "python",
   "pygments_lexer": "ipython3",
   "version": "3.8.12"
  }
 },
 "nbformat": 4,
 "nbformat_minor": 5
}
